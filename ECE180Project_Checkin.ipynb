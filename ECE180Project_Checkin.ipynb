{
 "cells": [
  {
   "cell_type": "markdown",
   "metadata": {},
   "source": [
    "To explore:\n",
    "1. top 10 check-in hours\n",
    "2. least 10 check-in hours\n",
    "3. proportion of total check in time captured in top 1/10/20/30 check in hours\n",
    "4. box plot of checkin count by state\n",
    "5. top 10 business types with the highest checkin counts"
   ]
  },
  {
   "cell_type": "markdown",
   "metadata": {},
   "source": [
    "## Load Data"
   ]
  },
  {
   "cell_type": "code",
   "execution_count": 1,
   "metadata": {
    "collapsed": true
   },
   "outputs": [],
   "source": [
    "import pandas as pd\n",
    "import numpy as np\n",
    "import matplotlib.pyplot as plt\n",
    "import random "
   ]
  },
  {
   "cell_type": "code",
   "execution_count": 2,
   "metadata": {
    "collapsed": true
   },
   "outputs": [],
   "source": [
    "df_checkin = pd.read_json('checkin.json', lines=True)\n",
    "df_biz = pd.read_json('business.json', lines=True)"
   ]
  },
  {
   "cell_type": "markdown",
   "metadata": {},
   "source": [
    "contatenate two data frame by business_id"
   ]
  },
  {
   "cell_type": "code",
   "execution_count": 36,
   "metadata": {
    "collapsed": true
   },
   "outputs": [],
   "source": [
    "df = df_biz.set_index('business_id').join(df_checkin.set_index('business_id'))"
   ]
  },
  {
   "cell_type": "code",
   "execution_count": 37,
   "metadata": {},
   "outputs": [
    {
     "name": "stdout",
     "output_type": "stream",
     "text": [
      "length of checkin data frame 146350\n",
      "length of business data frame 174567\n",
      "length of contatenated data frame 174567\n"
     ]
    }
   ],
   "source": [
    "print 'length of checkin data frame '+str(len(df_checkin))\n",
    "print 'length of business data frame '+str(len(df_biz))\n",
    "print 'length of contatenated data frame '+ str(len(df))"
   ]
  },
  {
   "cell_type": "markdown",
   "metadata": {},
   "source": [
    "Drop some rows with NaN in checkin time and drop some USELESS columns"
   ]
  },
  {
   "cell_type": "code",
   "execution_count": 38,
   "metadata": {},
   "outputs": [],
   "source": [
    "df = df.dropna(how='any')  \n",
    "df.drop(['address','latitude','longitude','neighborhood','is_open','postal_code'],axis = 'columns',inplace = True)"
   ]
  },
  {
   "cell_type": "code",
   "execution_count": 39,
   "metadata": {},
   "outputs": [
    {
     "data": {
      "text/html": [
       "<div>\n",
       "<style>\n",
       "    .dataframe thead tr:only-child th {\n",
       "        text-align: right;\n",
       "    }\n",
       "\n",
       "    .dataframe thead th {\n",
       "        text-align: left;\n",
       "    }\n",
       "\n",
       "    .dataframe tbody tr th {\n",
       "        vertical-align: top;\n",
       "    }\n",
       "</style>\n",
       "<table border=\"1\" class=\"dataframe\">\n",
       "  <thead>\n",
       "    <tr style=\"text-align: right;\">\n",
       "      <th></th>\n",
       "      <th>attributes</th>\n",
       "      <th>categories</th>\n",
       "      <th>city</th>\n",
       "      <th>hours</th>\n",
       "      <th>name</th>\n",
       "      <th>review_count</th>\n",
       "      <th>stars</th>\n",
       "      <th>state</th>\n",
       "      <th>time</th>\n",
       "    </tr>\n",
       "    <tr>\n",
       "      <th>business_id</th>\n",
       "      <th></th>\n",
       "      <th></th>\n",
       "      <th></th>\n",
       "      <th></th>\n",
       "      <th></th>\n",
       "      <th></th>\n",
       "      <th></th>\n",
       "      <th></th>\n",
       "      <th></th>\n",
       "    </tr>\n",
       "  </thead>\n",
       "  <tbody>\n",
       "    <tr>\n",
       "      <th>kVODXr00qMBklPZTP3X-lQ</th>\n",
       "      <td>{u'BusinessParking': {u'garage': False, u'stre...</td>\n",
       "      <td>[Arts &amp; Entertainment, Community Service/Non-P...</td>\n",
       "      <td>Pittsburgh</td>\n",
       "      <td>{u'Monday': u'16:00-0:00', u'Tuesday': u'16:00...</td>\n",
       "      <td>Cheerleaders Gentlemen's Club</td>\n",
       "      <td>17</td>\n",
       "      <td>2.5</td>\n",
       "      <td>PA</td>\n",
       "      <td>{u'Tuesday': {u'2:00': 1, u'5:00': 2, u'4:00':...</td>\n",
       "    </tr>\n",
       "    <tr>\n",
       "      <th>U5vwyXCJKZjg6JdkmQ9z4g</th>\n",
       "      <td>{u'RestaurantsPriceRange2': 2, u'BikeParking':...</td>\n",
       "      <td>[Desserts, Specialty Food, Bakeries, Chocolati...</td>\n",
       "      <td>Montréal</td>\n",
       "      <td>{u'Tuesday': u'8:00-18:30', u'Friday': u'8:00-...</td>\n",
       "      <td>Le Petit Fourneau</td>\n",
       "      <td>3</td>\n",
       "      <td>4.5</td>\n",
       "      <td>QC</td>\n",
       "      <td>{u'Friday': {u'21:00': 1}, u'Wednesday': {u'14...</td>\n",
       "    </tr>\n",
       "    <tr>\n",
       "      <th>wuszlnfMP1uxldeFaq-GvA</th>\n",
       "      <td>{}</td>\n",
       "      <td>[Public Services &amp; Government]</td>\n",
       "      <td>Cleveland</td>\n",
       "      <td>{}</td>\n",
       "      <td>TSA Checkpoint Central - Cleveland Hopkins Int...</td>\n",
       "      <td>5</td>\n",
       "      <td>1.5</td>\n",
       "      <td>OH</td>\n",
       "      <td>{u'Monday': {u'16:00': 1}, u'Tuesday': {u'21:0...</td>\n",
       "    </tr>\n",
       "    <tr>\n",
       "      <th>WuAoQ73PGtG2u-rbA5Nwhg</th>\n",
       "      <td>{u'GoodForMeal': {u'dessert': False, u'latenig...</td>\n",
       "      <td>[Restaurants, Italian]</td>\n",
       "      <td>Filderstadt</td>\n",
       "      <td>{u'Monday': u'17:00-23:30', u'Tuesday': u'17:0...</td>\n",
       "      <td>Ristorante Amalfi</td>\n",
       "      <td>9</td>\n",
       "      <td>3.0</td>\n",
       "      <td>BW</td>\n",
       "      <td>{u'Tuesday': {u'18:00': 1}, u'Friday': {u'6:00...</td>\n",
       "    </tr>\n",
       "    <tr>\n",
       "      <th>2cXMdjRh5r7EeavoQoaFLQ</th>\n",
       "      <td>{u'Alcohol': u'full_bar', u'HasTV': False, u'H...</td>\n",
       "      <td>[Nightlife, Dance Clubs]</td>\n",
       "      <td>Las Vegas</td>\n",
       "      <td>{}</td>\n",
       "      <td>The Gossy Room at Caesars Palace</td>\n",
       "      <td>8</td>\n",
       "      <td>4.0</td>\n",
       "      <td>NV</td>\n",
       "      <td>{u'Monday': {u'19:00': 1, u'14:00': 1, u'17:00...</td>\n",
       "    </tr>\n",
       "    <tr>\n",
       "      <th>ri_zB3OXUJOIcMeJ8T6DrQ</th>\n",
       "      <td>{u'BusinessAcceptsCreditCards': True, u'Restau...</td>\n",
       "      <td>[Food, Beer, Wine &amp; Spirits]</td>\n",
       "      <td>Toronto</td>\n",
       "      <td>{u'Monday': u'10:00-21:00', u'Tuesday': u'10:0...</td>\n",
       "      <td>LCBO - Eglinton and Avenue</td>\n",
       "      <td>3</td>\n",
       "      <td>2.5</td>\n",
       "      <td>ON</td>\n",
       "      <td>{u'Sunday': {u'18:00': 1}, u'Saturday': {u'22:...</td>\n",
       "    </tr>\n",
       "    <tr>\n",
       "      <th>HYKTKG3X7jtLe6elxp63JQ</th>\n",
       "      <td>{u'Alcohol': u'none', u'HasTV': True, u'NoiseL...</td>\n",
       "      <td>[Fish &amp; Chips, Vegan, American (Traditional), ...</td>\n",
       "      <td>Las Vegas</td>\n",
       "      <td>{u'Monday': u'11:00-20:00', u'Tuesday': u'11:0...</td>\n",
       "      <td>Off the Hook</td>\n",
       "      <td>323</td>\n",
       "      <td>4.5</td>\n",
       "      <td>NV</td>\n",
       "      <td>{u'Monday': {u'19:00': 6, u'21:00': 10, u'17:0...</td>\n",
       "    </tr>\n",
       "    <tr>\n",
       "      <th>YkT9T0_ngtwzmYlN441biQ</th>\n",
       "      <td>{u'BusinessAcceptsCreditCards': True, u'ByAppo...</td>\n",
       "      <td>[Real Estate, Home Services, Apartments]</td>\n",
       "      <td>Phoenix</td>\n",
       "      <td>{u'Monday': u'9:00-18:00'}</td>\n",
       "      <td>The Met</td>\n",
       "      <td>11</td>\n",
       "      <td>3.0</td>\n",
       "      <td>AZ</td>\n",
       "      <td>{u'Monday': {u'19:00': 1}, u'Tuesday': {u'13:0...</td>\n",
       "    </tr>\n",
       "    <tr>\n",
       "      <th>e1jI2-vU1fd4UKpyogtxuA</th>\n",
       "      <td>{u'DogsAllowed': False, u'Alcohol': u'none', u...</td>\n",
       "      <td>[Restaurants, Breakfast &amp; Brunch, Coffee &amp; Tea...</td>\n",
       "      <td>Toronto</td>\n",
       "      <td>{u'Tuesday': u'7:00-17:00', u'Friday': u'7:00-...</td>\n",
       "      <td>UB Social</td>\n",
       "      <td>6</td>\n",
       "      <td>4.0</td>\n",
       "      <td>ON</td>\n",
       "      <td>{u'Sunday': {u'16:00': 1}, u'Saturday': {u'18:...</td>\n",
       "    </tr>\n",
       "    <tr>\n",
       "      <th>8unfqVeeusBxdBaowHxQ2Q</th>\n",
       "      <td>{u'BusinessParking': {u'garage': False, u'stre...</td>\n",
       "      <td>[Desserts, Bakeries, Coffee &amp; Tea, Food, Ice C...</td>\n",
       "      <td>Surprise</td>\n",
       "      <td>{u'Monday': u'12:00-21:00', u'Tuesday': u'12:0...</td>\n",
       "      <td>Indulge Froyo</td>\n",
       "      <td>6</td>\n",
       "      <td>3.5</td>\n",
       "      <td>AZ</td>\n",
       "      <td>{u'Tuesday': {u'2:00': 1}, u'Sunday': {u'8:00'...</td>\n",
       "    </tr>\n",
       "  </tbody>\n",
       "</table>\n",
       "</div>"
      ],
      "text/plain": [
       "                                                               attributes  \\\n",
       "business_id                                                                 \n",
       "kVODXr00qMBklPZTP3X-lQ  {u'BusinessParking': {u'garage': False, u'stre...   \n",
       "U5vwyXCJKZjg6JdkmQ9z4g  {u'RestaurantsPriceRange2': 2, u'BikeParking':...   \n",
       "wuszlnfMP1uxldeFaq-GvA                                                 {}   \n",
       "WuAoQ73PGtG2u-rbA5Nwhg  {u'GoodForMeal': {u'dessert': False, u'latenig...   \n",
       "2cXMdjRh5r7EeavoQoaFLQ  {u'Alcohol': u'full_bar', u'HasTV': False, u'H...   \n",
       "ri_zB3OXUJOIcMeJ8T6DrQ  {u'BusinessAcceptsCreditCards': True, u'Restau...   \n",
       "HYKTKG3X7jtLe6elxp63JQ  {u'Alcohol': u'none', u'HasTV': True, u'NoiseL...   \n",
       "YkT9T0_ngtwzmYlN441biQ  {u'BusinessAcceptsCreditCards': True, u'ByAppo...   \n",
       "e1jI2-vU1fd4UKpyogtxuA  {u'DogsAllowed': False, u'Alcohol': u'none', u...   \n",
       "8unfqVeeusBxdBaowHxQ2Q  {u'BusinessParking': {u'garage': False, u'stre...   \n",
       "\n",
       "                                                               categories  \\\n",
       "business_id                                                                 \n",
       "kVODXr00qMBklPZTP3X-lQ  [Arts & Entertainment, Community Service/Non-P...   \n",
       "U5vwyXCJKZjg6JdkmQ9z4g  [Desserts, Specialty Food, Bakeries, Chocolati...   \n",
       "wuszlnfMP1uxldeFaq-GvA                     [Public Services & Government]   \n",
       "WuAoQ73PGtG2u-rbA5Nwhg                             [Restaurants, Italian]   \n",
       "2cXMdjRh5r7EeavoQoaFLQ                           [Nightlife, Dance Clubs]   \n",
       "ri_zB3OXUJOIcMeJ8T6DrQ                       [Food, Beer, Wine & Spirits]   \n",
       "HYKTKG3X7jtLe6elxp63JQ  [Fish & Chips, Vegan, American (Traditional), ...   \n",
       "YkT9T0_ngtwzmYlN441biQ           [Real Estate, Home Services, Apartments]   \n",
       "e1jI2-vU1fd4UKpyogtxuA  [Restaurants, Breakfast & Brunch, Coffee & Tea...   \n",
       "8unfqVeeusBxdBaowHxQ2Q  [Desserts, Bakeries, Coffee & Tea, Food, Ice C...   \n",
       "\n",
       "                               city  \\\n",
       "business_id                           \n",
       "kVODXr00qMBklPZTP3X-lQ   Pittsburgh   \n",
       "U5vwyXCJKZjg6JdkmQ9z4g     Montréal   \n",
       "wuszlnfMP1uxldeFaq-GvA    Cleveland   \n",
       "WuAoQ73PGtG2u-rbA5Nwhg  Filderstadt   \n",
       "2cXMdjRh5r7EeavoQoaFLQ    Las Vegas   \n",
       "ri_zB3OXUJOIcMeJ8T6DrQ      Toronto   \n",
       "HYKTKG3X7jtLe6elxp63JQ    Las Vegas   \n",
       "YkT9T0_ngtwzmYlN441biQ      Phoenix   \n",
       "e1jI2-vU1fd4UKpyogtxuA      Toronto   \n",
       "8unfqVeeusBxdBaowHxQ2Q     Surprise   \n",
       "\n",
       "                                                                    hours  \\\n",
       "business_id                                                                 \n",
       "kVODXr00qMBklPZTP3X-lQ  {u'Monday': u'16:00-0:00', u'Tuesday': u'16:00...   \n",
       "U5vwyXCJKZjg6JdkmQ9z4g  {u'Tuesday': u'8:00-18:30', u'Friday': u'8:00-...   \n",
       "wuszlnfMP1uxldeFaq-GvA                                                 {}   \n",
       "WuAoQ73PGtG2u-rbA5Nwhg  {u'Monday': u'17:00-23:30', u'Tuesday': u'17:0...   \n",
       "2cXMdjRh5r7EeavoQoaFLQ                                                 {}   \n",
       "ri_zB3OXUJOIcMeJ8T6DrQ  {u'Monday': u'10:00-21:00', u'Tuesday': u'10:0...   \n",
       "HYKTKG3X7jtLe6elxp63JQ  {u'Monday': u'11:00-20:00', u'Tuesday': u'11:0...   \n",
       "YkT9T0_ngtwzmYlN441biQ                         {u'Monday': u'9:00-18:00'}   \n",
       "e1jI2-vU1fd4UKpyogtxuA  {u'Tuesday': u'7:00-17:00', u'Friday': u'7:00-...   \n",
       "8unfqVeeusBxdBaowHxQ2Q  {u'Monday': u'12:00-21:00', u'Tuesday': u'12:0...   \n",
       "\n",
       "                                                                     name  \\\n",
       "business_id                                                                 \n",
       "kVODXr00qMBklPZTP3X-lQ                      Cheerleaders Gentlemen's Club   \n",
       "U5vwyXCJKZjg6JdkmQ9z4g                                  Le Petit Fourneau   \n",
       "wuszlnfMP1uxldeFaq-GvA  TSA Checkpoint Central - Cleveland Hopkins Int...   \n",
       "WuAoQ73PGtG2u-rbA5Nwhg                                  Ristorante Amalfi   \n",
       "2cXMdjRh5r7EeavoQoaFLQ                   The Gossy Room at Caesars Palace   \n",
       "ri_zB3OXUJOIcMeJ8T6DrQ                         LCBO - Eglinton and Avenue   \n",
       "HYKTKG3X7jtLe6elxp63JQ                                       Off the Hook   \n",
       "YkT9T0_ngtwzmYlN441biQ                                            The Met   \n",
       "e1jI2-vU1fd4UKpyogtxuA                                          UB Social   \n",
       "8unfqVeeusBxdBaowHxQ2Q                                      Indulge Froyo   \n",
       "\n",
       "                        review_count  stars state  \\\n",
       "business_id                                         \n",
       "kVODXr00qMBklPZTP3X-lQ            17    2.5    PA   \n",
       "U5vwyXCJKZjg6JdkmQ9z4g             3    4.5    QC   \n",
       "wuszlnfMP1uxldeFaq-GvA             5    1.5    OH   \n",
       "WuAoQ73PGtG2u-rbA5Nwhg             9    3.0    BW   \n",
       "2cXMdjRh5r7EeavoQoaFLQ             8    4.0    NV   \n",
       "ri_zB3OXUJOIcMeJ8T6DrQ             3    2.5    ON   \n",
       "HYKTKG3X7jtLe6elxp63JQ           323    4.5    NV   \n",
       "YkT9T0_ngtwzmYlN441biQ            11    3.0    AZ   \n",
       "e1jI2-vU1fd4UKpyogtxuA             6    4.0    ON   \n",
       "8unfqVeeusBxdBaowHxQ2Q             6    3.5    AZ   \n",
       "\n",
       "                                                                     time  \n",
       "business_id                                                                \n",
       "kVODXr00qMBklPZTP3X-lQ  {u'Tuesday': {u'2:00': 1, u'5:00': 2, u'4:00':...  \n",
       "U5vwyXCJKZjg6JdkmQ9z4g  {u'Friday': {u'21:00': 1}, u'Wednesday': {u'14...  \n",
       "wuszlnfMP1uxldeFaq-GvA  {u'Monday': {u'16:00': 1}, u'Tuesday': {u'21:0...  \n",
       "WuAoQ73PGtG2u-rbA5Nwhg  {u'Tuesday': {u'18:00': 1}, u'Friday': {u'6:00...  \n",
       "2cXMdjRh5r7EeavoQoaFLQ  {u'Monday': {u'19:00': 1, u'14:00': 1, u'17:00...  \n",
       "ri_zB3OXUJOIcMeJ8T6DrQ  {u'Sunday': {u'18:00': 1}, u'Saturday': {u'22:...  \n",
       "HYKTKG3X7jtLe6elxp63JQ  {u'Monday': {u'19:00': 6, u'21:00': 10, u'17:0...  \n",
       "YkT9T0_ngtwzmYlN441biQ  {u'Monday': {u'19:00': 1}, u'Tuesday': {u'13:0...  \n",
       "e1jI2-vU1fd4UKpyogtxuA  {u'Sunday': {u'16:00': 1}, u'Saturday': {u'18:...  \n",
       "8unfqVeeusBxdBaowHxQ2Q  {u'Tuesday': {u'2:00': 1}, u'Sunday': {u'8:00'...  "
      ]
     },
     "execution_count": 39,
     "metadata": {},
     "output_type": "execute_result"
    }
   ],
   "source": [
    "df.sample(10)"
   ]
  },
  {
   "cell_type": "code",
   "execution_count": 40,
   "metadata": {},
   "outputs": [
    {
     "data": {
      "text/plain": [
       "{u'Friday': {u'18:00': 1},\n",
       " u'Monday': {u'15:00': 1, u'19:00': 1},\n",
       " u'Saturday': {u'12:00': 1, u'18:00': 1},\n",
       " u'Thursday': {u'15:00': 1, u'18:00': 1, u'20:00': 1},\n",
       " u'Tuesday': {u'14:00': 1, u'15:00': 1, u'20:00': 1, u'23:00': 1},\n",
       " u'Wednesday': {u'19:00': 2, u'20:00': 1}}"
      ]
     },
     "execution_count": 40,
     "metadata": {},
     "output_type": "execute_result"
    }
   ],
   "source": [
    "df.iloc[1][8]"
   ]
  },
  {
   "cell_type": "markdown",
   "metadata": {},
   "source": [
    "## top & least 10 checkin time "
   ]
  },
  {
   "cell_type": "code",
   "execution_count": 41,
   "metadata": {
    "collapsed": true
   },
   "outputs": [],
   "source": [
    "checkin_time_dict = {}\n",
    "for i in range(0, len(df)):\n",
    "    checkin_time_each_biz = df.iloc[i][8]\n",
    "    for date in checkin_time_each_biz.keys(): #get the date\n",
    "        time_list = checkin_time_each_biz[date] #get the time of each date\n",
    "        for time in time_list.keys():\n",
    "            if (date, time) in checkin_time_dict:\n",
    "                checkin_time_dict[(date, time)] += time_list[time]\n",
    "            else:\n",
    "                checkin_time_dict[(date, time)] = time_list[time] "
   ]
  },
  {
   "cell_type": "markdown",
   "metadata": {},
   "source": [
    "Sort the dict"
   ]
  },
  {
   "cell_type": "code",
   "execution_count": 42,
   "metadata": {
    "collapsed": true
   },
   "outputs": [],
   "source": [
    "mostPopular_checkin = [(checkin_time_dict[x], x) for x in checkin_time_dict]\n",
    "mostPopular_checkin.sort()\n",
    "mostPopular_checkin.reverse()"
   ]
  },
  {
   "cell_type": "code",
   "execution_count": 43,
   "metadata": {},
   "outputs": [
    {
     "name": "stdout",
     "output_type": "stream",
     "text": [
      "the TOP 10 checkin time is \n",
      "[(251537, (u'Saturday', u'19:00')), (246969, (u'Saturday', u'20:00')), (245453, (u'Saturday', u'1:00')), (236195, (u'Saturday', u'2:00')), (235295, (u'Sunday', u'1:00')), (229788, (u'Saturday', u'21:00')), (229561, (u'Sunday', u'19:00')), (225651, (u'Saturday', u'18:00')), (225209, (u'Sunday', u'0:00'))]\n",
      "the LEAST 10 checkin time is \n",
      "[(12452, (u'Tuesday', u'8:00')), (11837, (u'Friday', u'10:00')), (11000, (u'Monday', u'9:00')), (10432, (u'Monday', u'10:00')), (10058, (u'Thursday', u'9:00')), (9776, (u'Thursday', u'10:00')), (9448, (u'Tuesday', u'10:00')), (9200, (u'Wednesday', u'10:00')), (8837, (u'Tuesday', u'9:00'))]\n"
     ]
    }
   ],
   "source": [
    "print \"the TOP 10 checkin time is \\n\" + str(mostPopular_checkin[0:9])\n",
    "print \"the LEAST 10 checkin time is \\n\"+ str(mostPopular_checkin[-10:-1])"
   ]
  },
  {
   "cell_type": "markdown",
   "metadata": {},
   "source": [
    "## proportion of total check in time captured in top 1/10/20/30 check in hours"
   ]
  },
  {
   "cell_type": "code",
   "execution_count": 44,
   "metadata": {},
   "outputs": [
    {
     "name": "stdout",
     "output_type": "stream",
     "text": [
      "number of total checkin 16648352\n",
      "number of total checin hours 168\n",
      "Proportion of total check in times captured in top 1 checkin hour is 1.51%\n",
      "Proportion of total check in times captured in top 10 checkin hour is 14.12%\n",
      "Proportion of total check in times captured in top 20 checkin hour is 26.44%\n",
      "Proportion of total check in times captured in top 30 checkin hour is 37.06%\n"
     ]
    }
   ],
   "source": [
    "total_num_checkin = sum(checkin_time_dict.values())\n",
    "num_list = [a[0] for a in mostPopular_checkin]\n",
    "proportion = [1, 10, 20, 30]\n",
    "print \"number of total checkin \" + str(total_num_checkin)\n",
    "print \"number of total checin hours \"+str(len(mostPopular_checkin))\n",
    "for prop in proportion:\n",
    "    percent = sum(num_list[0:prop])*1.0/total_num_checkin\n",
    "    print \"Proportion of total check in times captured in top \"+str(prop)+ \" checkin hour is \"+\"{0:.2f}\".format(percent*100)+\"%\""
   ]
  },
  {
   "cell_type": "markdown",
   "metadata": {},
   "source": [
    "## box plot of checkin count by state"
   ]
  },
  {
   "cell_type": "code",
   "execution_count": 45,
   "metadata": {
    "collapsed": true
   },
   "outputs": [],
   "source": [
    "state_dict = {}\n",
    "#state_list = df['state'].unique()\n",
    "for i in range(0, len(df)):\n",
    "    state = df.iloc[i][7]\n",
    "    if state not in state_dict:\n",
    "        state_dict[state] = []\n",
    "    checkin_time_each_biz = df.iloc[i][8]\n",
    "    add = 0\n",
    "    for date in checkin_time_each_biz.keys(): #get the date\n",
    "        time_list = checkin_time_each_biz[date] #get the time of each date\n",
    "        add += sum(time_list.values())\n",
    "    state_dict[state].append(add)       "
   ]
  },
  {
   "cell_type": "code",
   "execution_count": 46,
   "metadata": {
    "collapsed": true
   },
   "outputs": [],
   "source": [
    "#sort the state by the total number of checkin times\n",
    "state_sorted = sorted(state_dict, key=lambda k: len(state_dict[k]), reverse=True)\n",
    "#only plot top 8 boxplot\n",
    "data_to_plot = []\n",
    "#state_axis = []\n",
    "for i in range(0, 8):\n",
    "    state  = state_sorted[i]\n",
    "    #state_axis.append(state) \n",
    "    data_to_plot.append(state_dict[state])"
   ]
  },
  {
   "cell_type": "code",
   "execution_count": 243,
   "metadata": {},
   "outputs": [
    {
     "data": {
      "image/png": "[encoded data removed]",
      "text/plain": [
       "<matplotlib.figure.Figure at 0x1183a8190>"
      ]
     },
     "metadata": {},
     "output_type": "display_data"
    }
   ],
   "source": [
    "#plot\n",
    "fig = plt.figure(1, figsize=(9, 6))\n",
    "# Create an axes instance\n",
    "ax = fig.add_subplot(111)\n",
    "bp = ax.boxplot(data_to_plot)\n",
    "ax.set_xticklabels([state_sorted[0], state_sorted[1],state_sorted[2],state_sorted[3],state_sorted[4],state_sorted[5], state_sorted[6],state_sorted[7]])\n",
    "plt.ylabel('Number of checkin')\n",
    "plt.xlabel('State')\n",
    "plt.title('Box Plot of Checkin by top 8 State')\n",
    "plt.show()\n",
    "#fig.savefig('fig1.png', bbox_inches='tight')"
   ]
  },
  {
   "cell_type": "code",
   "execution_count": 244,
   "metadata": {},
   "outputs": [
    {
     "data": {
      "image/png": "[encoded data removed]",
      "text/plain": [
       "<matplotlib.figure.Figure at 0x1181e01d0>"
      ]
     },
     "metadata": {},
     "output_type": "display_data"
    }
   ],
   "source": [
    "#plot\n",
    "fig = plt.figure(1, figsize=(9, 6))\n",
    "# Create an axes instance\n",
    "ax = fig.add_subplot(111)\n",
    "bp = ax.boxplot(data_to_plot, 0, '')\n",
    "plt.ylabel('Number of checkin')\n",
    "plt.xlabel('State')\n",
    "plt.title('Box Plot of Checkin by top 8 State W/O outliers')\n",
    "ax.set_xticklabels([state_sorted[0], state_sorted[1],state_sorted[2],state_sorted[3],state_sorted[4],state_sorted[5], state_sorted[6],state_sorted[7]])\n",
    "plt.show()\n",
    "#fig.savefig('fig2.png', bbox_inches='tight')"
   ]
  },
  {
   "cell_type": "markdown",
   "metadata": {
    "collapsed": true
   },
   "source": [
    "# top 10 business types with the highest checkin counts"
   ]
  },
  {
   "cell_type": "code",
   "execution_count": 5,
   "metadata": {},
   "outputs": [],
   "source": [
    "biz_categories_checkin = {}\n",
    "for i in range(0, len(df)):\n",
    "    for item in df.iloc[i][1]:\n",
    "        if item in biz_categories_checkin:\n",
    "            biz_categories_checkin[item] += 1\n",
    "        else:\n",
    "            biz_categories_checkin[item] = 1"
   ]
  },
  {
   "cell_type": "code",
   "execution_count": 6,
   "metadata": {
    "collapsed": true
   },
   "outputs": [],
   "source": [
    "df = pd.DataFrame({'categories':[(x) for x in biz_categories_checkin], 'checkin counts':[(biz_categories_checkin[x]) for x in biz_categories_checkin] })\n"
   ]
  },
  {
   "cell_type": "code",
   "execution_count": 16,
   "metadata": {
    "collapsed": true
   },
   "outputs": [],
   "source": [
    "ordered_df = df.sort_values(by='checkin counts')\n",
    "ordered_df = ordered_df[-10:]\n",
    "my_range=range(1,len(ordered_df.index)+1)\n",
    "#ordered_df  = ordered_df.sort_values(by='checkin counts')"
   ]
  },
  {
   "cell_type": "code",
   "execution_count": 49,
   "metadata": {
    "collapsed": true
   },
   "outputs": [],
   "source": [
    "from matplotlib import pyplot\n",
    "import seaborn as sns"
   ]
  },
  {
   "cell_type": "code",
   "execution_count": 53,
   "metadata": {},
   "outputs": [
    {
     "data": {
      "image/png": "[encoded data removed]",
      "text/plain": [
       "<matplotlib.figure.Figure at 0x2610e6a0>"
      ]
     },
     "metadata": {},
     "output_type": "display_data"
    }
   ],
   "source": [
    "# Vertical \n",
    "fig = pyplot.figure() \n",
    "ax = fig.add_subplot(1,1,1) \n",
    "ax.tick_params(axis='x', labelsize=14)\n",
    "ax.tick_params(axis='y', labelsize=14)\n",
    "plt.hlines(y=my_range, xmin=0, xmax=ordered_df['checkin counts'], color='skyblue')\n",
    "fig = plt.plot(ordered_df['checkin counts'], my_range, \"D\")\n",
    "plt.yticks(my_range, ordered_df['categories'])\n",
    "plt.xlabel('checkin counts',fontsize=18)\n",
    "plt.title('Top10 Categories with Most Checkins',fontsize=20)\n",
    "plt.show()"
   ]
  },
  {
   "cell_type": "code",
   "execution_count": null,
   "metadata": {
    "collapsed": true
   },
   "outputs": [],
   "source": []
  }
 ],
 "metadata": {
  "kernelspec": {
   "display_name": "Python 2",
   "language": "python",
   "name": "python2"
  },
  "language_info": {
   "codemirror_mode": {
    "name": "ipython",
    "version": 2
   },
   "file_extension": ".py",
   "mimetype": "text/x-python",
   "name": "python",
   "nbconvert_exporter": "python",
   "pygments_lexer": "ipython2",
   "version": "2.7.13"
  }
 },
 "nbformat": 4,
 "nbformat_minor": 2
}
