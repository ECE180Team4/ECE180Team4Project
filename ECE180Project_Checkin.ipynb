{
 "cells": [
  {
   "cell_type": "markdown",
   "metadata": {},
   "source": [
    "To explore:\n",
    "1. top 10 check-in hours\n",
    "2. least 10 check-in hours\n",
    "3. proportion of total check in time captured in top 1/10/20/30 check in hours\n",
    "4. box plot of checkin count by state\n",
    "5. top 3 business types with the highest checkin counts\n",
    "6. relation between checkin count and the type of business and the state it is in"
   ]
  },
  {
   "cell_type": "markdown",
   "metadata": {},
   "source": [
    "## Load Data"
   ]
  },
  {
   "cell_type": "code",
   "execution_count": 194,
   "metadata": {
    "collapsed": true
   },
   "outputs": [],
   "source": [
    "import pandas as pd\n",
    "import numpy as np\n",
    "import matplotlib.pyplot as plt\n",
    "import random "
   ]
  },
  {
   "cell_type": "code",
   "execution_count": 2,
   "metadata": {
    "collapsed": true
   },
   "outputs": [],
   "source": [
    "df_checkin = pd.read_json('dataset/checkin.json', lines=True)\n",
    "df_biz = pd.read_json('dataset/business.json', lines=True)"
   ]
  },
  {
   "cell_type": "markdown",
   "metadata": {},
   "source": [
    "contatenate two data frame by business_id"
   ]
  },
  {
   "cell_type": "code",
   "execution_count": 3,
   "metadata": {
    "collapsed": true
   },
   "outputs": [],
   "source": [
    "df = df_biz.set_index('business_id').join(df_checkin.set_index('business_id'))"
   ]
  },
  {
   "cell_type": "code",
   "execution_count": 4,
   "metadata": {},
   "outputs": [
    {
     "name": "stdout",
     "output_type": "stream",
     "text": [
      "length of checkin data frame 146350\n",
      "length of business data frame 174567\n",
      "length of contatenated data frame 174567\n"
     ]
    }
   ],
   "source": [
    "print 'length of checkin data frame '+str(len(df_checkin))\n",
    "print 'length of business data frame '+str(len(df_biz))\n",
    "print 'length of contatenated data frame '+ str(len(df))"
   ]
  },
  {
   "cell_type": "markdown",
   "metadata": {},
   "source": [
    "Drop some rows with NaN in checkin time and drop some USELESS columns"
   ]
  },
  {
   "cell_type": "code",
   "execution_count": 5,
   "metadata": {
    "collapsed": true
   },
   "outputs": [],
   "source": [
    "df = df.dropna(how='any')  \n",
    "df.drop(['address','latitude','longitude','neighborhood','is_open','postal_code'],axis = 'columns',inplace = True)"
   ]
  },
  {
   "cell_type": "code",
   "execution_count": 6,
   "metadata": {},
   "outputs": [
    {
     "data": {
      "text/html": [
       "<div>\n",
       "<style>\n",
       "    .dataframe thead tr:only-child th {\n",
       "        text-align: right;\n",
       "    }\n",
       "\n",
       "    .dataframe thead th {\n",
       "        text-align: left;\n",
       "    }\n",
       "\n",
       "    .dataframe tbody tr th {\n",
       "        vertical-align: top;\n",
       "    }\n",
       "</style>\n",
       "<table border=\"1\" class=\"dataframe\">\n",
       "  <thead>\n",
       "    <tr style=\"text-align: right;\">\n",
       "      <th></th>\n",
       "      <th>attributes</th>\n",
       "      <th>categories</th>\n",
       "      <th>city</th>\n",
       "      <th>hours</th>\n",
       "      <th>name</th>\n",
       "      <th>review_count</th>\n",
       "      <th>stars</th>\n",
       "      <th>state</th>\n",
       "      <th>time</th>\n",
       "    </tr>\n",
       "    <tr>\n",
       "      <th>business_id</th>\n",
       "      <th></th>\n",
       "      <th></th>\n",
       "      <th></th>\n",
       "      <th></th>\n",
       "      <th></th>\n",
       "      <th></th>\n",
       "      <th></th>\n",
       "      <th></th>\n",
       "      <th></th>\n",
       "    </tr>\n",
       "  </thead>\n",
       "  <tbody>\n",
       "    <tr>\n",
       "      <th>HhFsbbmmEg6vgjXnRJ70HQ</th>\n",
       "      <td>{u'GoodForMeal': {u'dessert': False, u'latenig...</td>\n",
       "      <td>[Restaurants, Burgers, Fast Food]</td>\n",
       "      <td>Phoenix</td>\n",
       "      <td>{}</td>\n",
       "      <td>McDonald's</td>\n",
       "      <td>21</td>\n",
       "      <td>2.0</td>\n",
       "      <td>AZ</td>\n",
       "      <td>{u'Monday': {u'2:00': 1, u'21:00': 1, u'22:00'...</td>\n",
       "    </tr>\n",
       "    <tr>\n",
       "      <th>BPP4_OSqA-KoTDEBWH2ZaA</th>\n",
       "      <td>{u'BusinessParking': {u'garage': False, u'stre...</td>\n",
       "      <td>[Food, Shopping, Tea Rooms, Coffee &amp; Tea]</td>\n",
       "      <td>Madison</td>\n",
       "      <td>{u'Tuesday': u'11:00-18:00', u'Friday': u'11:0...</td>\n",
       "      <td>Legacy House Imports - Tea Room</td>\n",
       "      <td>13</td>\n",
       "      <td>5.0</td>\n",
       "      <td>WI</td>\n",
       "      <td>{u'Tuesday': {u'22:00': 1}, u'Sunday': {u'16:0...</td>\n",
       "    </tr>\n",
       "    <tr>\n",
       "      <th>dCL9Fg3D31UdIAiRk8h8Vg</th>\n",
       "      <td>{u'GoodForMeal': {u'dessert': False, u'latenig...</td>\n",
       "      <td>[Thai, Restaurants]</td>\n",
       "      <td>Toronto</td>\n",
       "      <td>{}</td>\n",
       "      <td>Young Thailand</td>\n",
       "      <td>35</td>\n",
       "      <td>3.5</td>\n",
       "      <td>ON</td>\n",
       "      <td>{u'Monday': {u'21:00': 2, u'15:00': 1, u'4:00'...</td>\n",
       "    </tr>\n",
       "    <tr>\n",
       "      <th>JGM-SxW_vayu0fBch-U2FQ</th>\n",
       "      <td>{u'GoodForMeal': {u'dessert': False, u'latenig...</td>\n",
       "      <td>[Food Delivery Services, Italian, Food, Pizza,...</td>\n",
       "      <td>Las Vegas</td>\n",
       "      <td>{u'Monday': u'16:00-0:00', u'Tuesday': u'16:00...</td>\n",
       "      <td>Pizza Bella</td>\n",
       "      <td>18</td>\n",
       "      <td>1.5</td>\n",
       "      <td>NV</td>\n",
       "      <td>{u'Sunday': {u'19:00': 1, u'7:00': 1, u'6:00':...</td>\n",
       "    </tr>\n",
       "    <tr>\n",
       "      <th>E759qevG0vnzRCjIHG_G_w</th>\n",
       "      <td>{u'GoodForKids': True, u'RestaurantsGoodForGro...</td>\n",
       "      <td>[Restaurants, Mexican]</td>\n",
       "      <td>Toronto</td>\n",
       "      <td>{}</td>\n",
       "      <td>Juan Gonzalez</td>\n",
       "      <td>8</td>\n",
       "      <td>2.0</td>\n",
       "      <td>ON</td>\n",
       "      <td>{u'Saturday': {u'20:00': 1}, u'Monday': {u'16:...</td>\n",
       "    </tr>\n",
       "    <tr>\n",
       "      <th>bBF45seuFtERdQIQCzk5yg</th>\n",
       "      <td>{u'BusinessAcceptsCreditCards': True, u'Busine...</td>\n",
       "      <td>[Session Photography, Event Photography, Boudo...</td>\n",
       "      <td>Las Vegas</td>\n",
       "      <td>{u'Monday': u'9:00-17:00', u'Tuesday': u'9:00-...</td>\n",
       "      <td>JamieY Photography</td>\n",
       "      <td>14</td>\n",
       "      <td>5.0</td>\n",
       "      <td>NV</td>\n",
       "      <td>{u'Monday': {u'17:00': 1, u'20:00': 1, u'23:00...</td>\n",
       "    </tr>\n",
       "    <tr>\n",
       "      <th>x0bhlkKwKvVweUvtnq7DMg</th>\n",
       "      <td>{u'BusinessAcceptsCreditCards': True}</td>\n",
       "      <td>[Gas Stations, Automotive]</td>\n",
       "      <td>Tempe</td>\n",
       "      <td>{u'Tuesday': u'7:00-19:00', u'Friday': u'7:00-...</td>\n",
       "      <td>Progressive Service Center</td>\n",
       "      <td>11</td>\n",
       "      <td>4.0</td>\n",
       "      <td>AZ</td>\n",
       "      <td>{u'Monday': {u'23:00': 1, u'19:00': 1, u'17:00...</td>\n",
       "    </tr>\n",
       "    <tr>\n",
       "      <th>5oeiMlQFtJFZV6H8qatznw</th>\n",
       "      <td>{u'GoodForMeal': {u'dessert': False, u'latenig...</td>\n",
       "      <td>[Restaurants, Salvadoran, Latin American]</td>\n",
       "      <td>Phoenix</td>\n",
       "      <td>{u'Monday': u'11:00-20:00', u'Tuesday': u'11:0...</td>\n",
       "      <td>Salvadoreño Restaurant</td>\n",
       "      <td>98</td>\n",
       "      <td>4.0</td>\n",
       "      <td>AZ</td>\n",
       "      <td>{u'Monday': {u'19:00': 5, u'21:00': 2, u'17:00...</td>\n",
       "    </tr>\n",
       "    <tr>\n",
       "      <th>04NemZnAY0oyAHCg68x_ww</th>\n",
       "      <td>{u'GoodForMeal': {u'dessert': False, u'latenig...</td>\n",
       "      <td>[Chicken Wings, Sandwiches, Restaurants, Pizza]</td>\n",
       "      <td>Charlotte</td>\n",
       "      <td>{u'Monday': u'11:00-2:00', u'Tuesday': u'11:00...</td>\n",
       "      <td>Domino's Pizza</td>\n",
       "      <td>36</td>\n",
       "      <td>2.0</td>\n",
       "      <td>NC</td>\n",
       "      <td>{u'Monday': {u'23:00': 1}, u'Tuesday': {u'1:00...</td>\n",
       "    </tr>\n",
       "    <tr>\n",
       "      <th>S4a42azhoOmr0fpeNkggHg</th>\n",
       "      <td>{}</td>\n",
       "      <td>[Home &amp; Garden, Furniture Stores, Shopping]</td>\n",
       "      <td>Pineville</td>\n",
       "      <td>{}</td>\n",
       "      <td>By Design</td>\n",
       "      <td>3</td>\n",
       "      <td>2.5</td>\n",
       "      <td>NC</td>\n",
       "      <td>{u'Tuesday': {u'17:00': 1}, u'Sunday': {u'21:0...</td>\n",
       "    </tr>\n",
       "  </tbody>\n",
       "</table>\n",
       "</div>"
      ],
      "text/plain": [
       "                                                               attributes  \\\n",
       "business_id                                                                 \n",
       "HhFsbbmmEg6vgjXnRJ70HQ  {u'GoodForMeal': {u'dessert': False, u'latenig...   \n",
       "BPP4_OSqA-KoTDEBWH2ZaA  {u'BusinessParking': {u'garage': False, u'stre...   \n",
       "dCL9Fg3D31UdIAiRk8h8Vg  {u'GoodForMeal': {u'dessert': False, u'latenig...   \n",
       "JGM-SxW_vayu0fBch-U2FQ  {u'GoodForMeal': {u'dessert': False, u'latenig...   \n",
       "E759qevG0vnzRCjIHG_G_w  {u'GoodForKids': True, u'RestaurantsGoodForGro...   \n",
       "bBF45seuFtERdQIQCzk5yg  {u'BusinessAcceptsCreditCards': True, u'Busine...   \n",
       "x0bhlkKwKvVweUvtnq7DMg              {u'BusinessAcceptsCreditCards': True}   \n",
       "5oeiMlQFtJFZV6H8qatznw  {u'GoodForMeal': {u'dessert': False, u'latenig...   \n",
       "04NemZnAY0oyAHCg68x_ww  {u'GoodForMeal': {u'dessert': False, u'latenig...   \n",
       "S4a42azhoOmr0fpeNkggHg                                                 {}   \n",
       "\n",
       "                                                               categories  \\\n",
       "business_id                                                                 \n",
       "HhFsbbmmEg6vgjXnRJ70HQ                  [Restaurants, Burgers, Fast Food]   \n",
       "BPP4_OSqA-KoTDEBWH2ZaA          [Food, Shopping, Tea Rooms, Coffee & Tea]   \n",
       "dCL9Fg3D31UdIAiRk8h8Vg                                [Thai, Restaurants]   \n",
       "JGM-SxW_vayu0fBch-U2FQ  [Food Delivery Services, Italian, Food, Pizza,...   \n",
       "E759qevG0vnzRCjIHG_G_w                             [Restaurants, Mexican]   \n",
       "bBF45seuFtERdQIQCzk5yg  [Session Photography, Event Photography, Boudo...   \n",
       "x0bhlkKwKvVweUvtnq7DMg                         [Gas Stations, Automotive]   \n",
       "5oeiMlQFtJFZV6H8qatznw          [Restaurants, Salvadoran, Latin American]   \n",
       "04NemZnAY0oyAHCg68x_ww    [Chicken Wings, Sandwiches, Restaurants, Pizza]   \n",
       "S4a42azhoOmr0fpeNkggHg        [Home & Garden, Furniture Stores, Shopping]   \n",
       "\n",
       "                             city  \\\n",
       "business_id                         \n",
       "HhFsbbmmEg6vgjXnRJ70HQ    Phoenix   \n",
       "BPP4_OSqA-KoTDEBWH2ZaA    Madison   \n",
       "dCL9Fg3D31UdIAiRk8h8Vg    Toronto   \n",
       "JGM-SxW_vayu0fBch-U2FQ  Las Vegas   \n",
       "E759qevG0vnzRCjIHG_G_w    Toronto   \n",
       "bBF45seuFtERdQIQCzk5yg  Las Vegas   \n",
       "x0bhlkKwKvVweUvtnq7DMg      Tempe   \n",
       "5oeiMlQFtJFZV6H8qatznw    Phoenix   \n",
       "04NemZnAY0oyAHCg68x_ww  Charlotte   \n",
       "S4a42azhoOmr0fpeNkggHg  Pineville   \n",
       "\n",
       "                                                                    hours  \\\n",
       "business_id                                                                 \n",
       "HhFsbbmmEg6vgjXnRJ70HQ                                                 {}   \n",
       "BPP4_OSqA-KoTDEBWH2ZaA  {u'Tuesday': u'11:00-18:00', u'Friday': u'11:0...   \n",
       "dCL9Fg3D31UdIAiRk8h8Vg                                                 {}   \n",
       "JGM-SxW_vayu0fBch-U2FQ  {u'Monday': u'16:00-0:00', u'Tuesday': u'16:00...   \n",
       "E759qevG0vnzRCjIHG_G_w                                                 {}   \n",
       "bBF45seuFtERdQIQCzk5yg  {u'Monday': u'9:00-17:00', u'Tuesday': u'9:00-...   \n",
       "x0bhlkKwKvVweUvtnq7DMg  {u'Tuesday': u'7:00-19:00', u'Friday': u'7:00-...   \n",
       "5oeiMlQFtJFZV6H8qatznw  {u'Monday': u'11:00-20:00', u'Tuesday': u'11:0...   \n",
       "04NemZnAY0oyAHCg68x_ww  {u'Monday': u'11:00-2:00', u'Tuesday': u'11:00...   \n",
       "S4a42azhoOmr0fpeNkggHg                                                 {}   \n",
       "\n",
       "                                                   name  review_count  stars  \\\n",
       "business_id                                                                    \n",
       "HhFsbbmmEg6vgjXnRJ70HQ                       McDonald's            21    2.0   \n",
       "BPP4_OSqA-KoTDEBWH2ZaA  Legacy House Imports - Tea Room            13    5.0   \n",
       "dCL9Fg3D31UdIAiRk8h8Vg                   Young Thailand            35    3.5   \n",
       "JGM-SxW_vayu0fBch-U2FQ                      Pizza Bella            18    1.5   \n",
       "E759qevG0vnzRCjIHG_G_w                    Juan Gonzalez             8    2.0   \n",
       "bBF45seuFtERdQIQCzk5yg               JamieY Photography            14    5.0   \n",
       "x0bhlkKwKvVweUvtnq7DMg       Progressive Service Center            11    4.0   \n",
       "5oeiMlQFtJFZV6H8qatznw           Salvadoreño Restaurant            98    4.0   \n",
       "04NemZnAY0oyAHCg68x_ww                   Domino's Pizza            36    2.0   \n",
       "S4a42azhoOmr0fpeNkggHg                        By Design             3    2.5   \n",
       "\n",
       "                       state  \\\n",
       "business_id                    \n",
       "HhFsbbmmEg6vgjXnRJ70HQ    AZ   \n",
       "BPP4_OSqA-KoTDEBWH2ZaA    WI   \n",
       "dCL9Fg3D31UdIAiRk8h8Vg    ON   \n",
       "JGM-SxW_vayu0fBch-U2FQ    NV   \n",
       "E759qevG0vnzRCjIHG_G_w    ON   \n",
       "bBF45seuFtERdQIQCzk5yg    NV   \n",
       "x0bhlkKwKvVweUvtnq7DMg    AZ   \n",
       "5oeiMlQFtJFZV6H8qatznw    AZ   \n",
       "04NemZnAY0oyAHCg68x_ww    NC   \n",
       "S4a42azhoOmr0fpeNkggHg    NC   \n",
       "\n",
       "                                                                     time  \n",
       "business_id                                                                \n",
       "HhFsbbmmEg6vgjXnRJ70HQ  {u'Monday': {u'2:00': 1, u'21:00': 1, u'22:00'...  \n",
       "BPP4_OSqA-KoTDEBWH2ZaA  {u'Tuesday': {u'22:00': 1}, u'Sunday': {u'16:0...  \n",
       "dCL9Fg3D31UdIAiRk8h8Vg  {u'Monday': {u'21:00': 2, u'15:00': 1, u'4:00'...  \n",
       "JGM-SxW_vayu0fBch-U2FQ  {u'Sunday': {u'19:00': 1, u'7:00': 1, u'6:00':...  \n",
       "E759qevG0vnzRCjIHG_G_w  {u'Saturday': {u'20:00': 1}, u'Monday': {u'16:...  \n",
       "bBF45seuFtERdQIQCzk5yg  {u'Monday': {u'17:00': 1, u'20:00': 1, u'23:00...  \n",
       "x0bhlkKwKvVweUvtnq7DMg  {u'Monday': {u'23:00': 1, u'19:00': 1, u'17:00...  \n",
       "5oeiMlQFtJFZV6H8qatznw  {u'Monday': {u'19:00': 5, u'21:00': 2, u'17:00...  \n",
       "04NemZnAY0oyAHCg68x_ww  {u'Monday': {u'23:00': 1}, u'Tuesday': {u'1:00...  \n",
       "S4a42azhoOmr0fpeNkggHg  {u'Tuesday': {u'17:00': 1}, u'Sunday': {u'21:0...  "
      ]
     },
     "execution_count": 6,
     "metadata": {},
     "output_type": "execute_result"
    }
   ],
   "source": [
    "df.sample(10)"
   ]
  },
  {
   "cell_type": "markdown",
   "metadata": {},
   "source": [
    "## top & least 10 checkin time "
   ]
  },
  {
   "cell_type": "code",
   "execution_count": 65,
   "metadata": {},
   "outputs": [],
   "source": [
    "checkin_time_dict = {}\n",
    "for i in range(0, len(df)):\n",
    "    checkin_time_each_biz = df.iloc[i][8]\n",
    "    for date in checkin_time_each_biz.keys(): #get the date\n",
    "        time_list = checkin_time_each_biz[date] #get the time of each date\n",
    "        for time in time_list.keys():\n",
    "            if (date, time) in checkin_time_dict:\n",
    "                checkin_time_dict[(date, time)] += time_list[time]\n",
    "            else:\n",
    "                checkin_time_dict[(date, time)] = time_list[time] "
   ]
  },
  {
   "cell_type": "markdown",
   "metadata": {},
   "source": [
    "Sort the dict"
   ]
  },
  {
   "cell_type": "code",
   "execution_count": 72,
   "metadata": {},
   "outputs": [],
   "source": [
    "mostPopular_checkin = [(checkin_time_dict[x], x) for x in checkin_time_dict]\n",
    "mostPopular_checkin.sort()\n",
    "mostPopular_checkin.reverse()"
   ]
  },
  {
   "cell_type": "code",
   "execution_count": 83,
   "metadata": {},
   "outputs": [
    {
     "name": "stdout",
     "output_type": "stream",
     "text": [
      "the TOP 10 checkin time is \n",
      "[(251537, (u'Saturday', u'19:00')), (246969, (u'Saturday', u'20:00')), (245453, (u'Saturday', u'1:00')), (236195, (u'Saturday', u'2:00')), (235295, (u'Sunday', u'1:00')), (229788, (u'Saturday', u'21:00')), (229561, (u'Sunday', u'19:00')), (225651, (u'Saturday', u'18:00')), (225209, (u'Sunday', u'0:00'))]\n",
      "the LEAST 10 checkin time is \n",
      "[(12452, (u'Tuesday', u'8:00')), (11837, (u'Friday', u'10:00')), (11000, (u'Monday', u'9:00')), (10432, (u'Monday', u'10:00')), (10058, (u'Thursday', u'9:00')), (9776, (u'Thursday', u'10:00')), (9448, (u'Tuesday', u'10:00')), (9200, (u'Wednesday', u'10:00')), (8837, (u'Tuesday', u'9:00'))]\n"
     ]
    }
   ],
   "source": [
    "print \"the TOP 10 checkin time is \\n\" + str(mostPopular_checkin[0:9])\n",
    "print \"the LEAST 10 checkin time is \\n\"+ str(mostPopular_checkin[-10:-1])"
   ]
  },
  {
   "cell_type": "markdown",
   "metadata": {},
   "source": [
    "## proportion of total check in time captured in top 1/10/20/30 check in hours"
   ]
  },
  {
   "cell_type": "code",
   "execution_count": 118,
   "metadata": {},
   "outputs": [
    {
     "name": "stdout",
     "output_type": "stream",
     "text": [
      "number of total checkin 16648352\n",
      "number of total checin hours 168\n",
      "Proportion of total check in times captured in top 1 checkin hour is 1.51%\n",
      "Proportion of total check in times captured in top 10 checkin hour is 14.12%\n",
      "Proportion of total check in times captured in top 20 checkin hour is 26.44%\n",
      "Proportion of total check in times captured in top 30 checkin hour is 37.06%\n"
     ]
    }
   ],
   "source": [
    "total_num_checkin = sum(checkin_time_dict.values())\n",
    "num_list = [a[0] for a in mostPopular_checkin]\n",
    "proportion = [1, 10, 20, 30]\n",
    "print \"number of total checkin \" + str(total_num_checkin)\n",
    "print \"number of total checin hours \"+str(len(mostPopular_checkin))\n",
    "for prop in proportion:\n",
    "    percent = sum(num_list[0:prop])*1.0/total_num_checkin\n",
    "    print \"Proportion of total check in times captured in top \"+str(prop)+ \" checkin hour is \"+\"{0:.2f}\".format(percent*100)+\"%\""
   ]
  },
  {
   "cell_type": "markdown",
   "metadata": {},
   "source": [
    "## box plot of checkin count by state"
   ]
  },
  {
   "cell_type": "code",
   "execution_count": 216,
   "metadata": {},
   "outputs": [],
   "source": [
    "state_dict = {}\n",
    "#state_list = df['state'].unique()\n",
    "for i in range(0, len(df)):\n",
    "    state = df.iloc[i][7]\n",
    "    if state not in state_dict:\n",
    "        state_dict[state] = []\n",
    "    checkin_time_each_biz = df.iloc[i][8]\n",
    "    add = 0\n",
    "    for date in checkin_time_each_biz.keys(): #get the date\n",
    "        time_list = checkin_time_each_biz[date] #get the time of each date\n",
    "        add += sum(time_list.values())\n",
    "    state_dict[state].append(add)       "
   ]
  },
  {
   "cell_type": "code",
   "execution_count": 236,
   "metadata": {},
   "outputs": [],
   "source": [
    "#sort the state by the total number of checkin times\n",
    "state_sorted = sorted(state_dict, key=lambda k: len(state_dict[k]), reverse=True)\n",
    "#only plot top 8 boxplot\n",
    "data_to_plot = []\n",
    "#state_axis = []\n",
    "for i in range(0, 8):\n",
    "    state  = state_sorted[i]\n",
    "    #state_axis.append(state) \n",
    "    data_to_plot.append(state_dict[state])"
   ]
  },
  {
   "cell_type": "code",
   "execution_count": 243,
   "metadata": {},
   "outputs": [
    {
     "data": {
      "image/png": "[encoded data removed]",
      "text/plain": [
       "<matplotlib.figure.Figure at 0x1183a8190>"
      ]
     },
     "metadata": {},
     "output_type": "display_data"
    }
   ],
   "source": [
    "#plot\n",
    "fig = plt.figure(1, figsize=(9, 6))\n",
    "# Create an axes instance\n",
    "ax = fig.add_subplot(111)\n",
    "bp = ax.boxplot(data_to_plot)\n",
    "ax.set_xticklabels([state_sorted[0], state_sorted[1],state_sorted[2],state_sorted[3],state_sorted[4],state_sorted[5], state_sorted[6],state_sorted[7]])\n",
    "plt.ylabel('Number of checkin')\n",
    "plt.xlabel('State')\n",
    "plt.title('Box Plot of Checkin by top 8 State')\n",
    "plt.show()\n",
    "#fig.savefig('fig1.png', bbox_inches='tight')"
   ]
  },
  {
   "cell_type": "code",
   "execution_count": 244,
   "metadata": {},
   "outputs": [
    {
     "data": {
      "image/png": "[encoded data removed]",
      "text/plain": [
       "<matplotlib.figure.Figure at 0x1181e01d0>"
      ]
     },
     "metadata": {},
     "output_type": "display_data"
    }
   ],
   "source": [
    "#plot\n",
    "fig = plt.figure(1, figsize=(9, 6))\n",
    "# Create an axes instance\n",
    "ax = fig.add_subplot(111)\n",
    "bp = ax.boxplot(data_to_plot, 0, '')\n",
    "plt.ylabel('Number of checkin')\n",
    "plt.xlabel('State')\n",
    "plt.title('Box Plot of Checkin by top 8 State W/O outliers')\n",
    "ax.set_xticklabels([state_sorted[0], state_sorted[1],state_sorted[2],state_sorted[3],state_sorted[4],state_sorted[5], state_sorted[6],state_sorted[7]])\n",
    "plt.show()\n",
    "#fig.savefig('fig2.png', bbox_inches='tight')"
   ]
  },
  {
   "cell_type": "code",
   "execution_count": null,
   "metadata": {
    "collapsed": true
   },
   "outputs": [],
   "source": []
  }
 ],
 "metadata": {
  "kernelspec": {
   "display_name": "Python 2",
   "language": "python",
   "name": "python2"
  },
  "language_info": {
   "codemirror_mode": {
    "name": "ipython",
    "version": 2
   },
   "file_extension": ".py",
   "mimetype": "text/x-python",
   "name": "python",
   "nbconvert_exporter": "python",
   "pygments_lexer": "ipython2",
   "version": "2.7.13"
  }
 },
 "nbformat": 4,
 "nbformat_minor": 2
}
